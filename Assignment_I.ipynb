{
  "nbformat": 4,
  "nbformat_minor": 0,
  "metadata": {
    "colab": {
      "provenance": [],
      "authorship_tag": "ABX9TyMW9V9b2DGTSZ6R01LhnZFh",
      "include_colab_link": true
    },
    "kernelspec": {
      "name": "python3",
      "display_name": "Python 3"
    },
    "language_info": {
      "name": "python"
    }
  },
  "cells": [
    {
      "cell_type": "markdown",
      "metadata": {
        "id": "view-in-github",
        "colab_type": "text"
      },
      "source": [
        "<a href=\"https://colab.research.google.com/github/deepnp7/PythonLab4thSem/blob/main/Assignment_I.ipynb\" target=\"_parent\"><img src=\"https://colab.research.google.com/assets/colab-badge.svg\" alt=\"Open In Colab\"/></a>"
      ]
    },
    {
      "cell_type": "code",
      "execution_count": null,
      "metadata": {
        "colab": {
          "base_uri": "https://localhost:8080/"
        },
        "id": "hi0ndxDM-dci",
        "outputId": "c966bd4c-73c2-4aef-e0be-8862f5f6d749"
      },
      "outputs": [
        {
          "output_type": "stream",
          "name": "stdout",
          "text": [
            "ZATCH\n",
            "Contai-I , Purba Medinipur\n",
            "PIN-Code : 721429\n",
            "West Bengal\n",
            "India\n"
          ]
        }
      ],
      "source": [
        "print(\"ZATCH\")\n",
        "print(\"Contai-I , Purba Medinipur\")\n",
        "print(\"PIN-Code : 721429\")\n",
        "print(\"West Bengal\")\n",
        "print(\"India\")\n"
      ]
    },
    {
      "cell_type": "code",
      "source": [
        "name = input(\"What's your name? \")\n",
        "print(\"Hello, \" + name + \"!\")\n"
      ],
      "metadata": {
        "colab": {
          "base_uri": "https://localhost:8080/"
        },
        "id": "Szn4lZu3_ERs",
        "outputId": "bdcd0021-d565-46d0-e492-46f6d93fbd26"
      },
      "execution_count": null,
      "outputs": [
        {
          "output_type": "stream",
          "name": "stdout",
          "text": [
            "What's your name? Zatch\n",
            "Hello, Zatch!\n"
          ]
        }
      ]
    },
    {
      "cell_type": "code",
      "source": [
        "width = float(input(\"Enter the width of the room in meters: \"))\n",
        "length = float(input(\"Enter the length of the room in meters: \"))\n",
        "area = width * length\n",
        "print(\"The area of the room is \" + str(area) + \" square meters.\")\n"
      ],
      "metadata": {
        "colab": {
          "base_uri": "https://localhost:8080/"
        },
        "id": "w0hTfEtn_HdH",
        "outputId": "fb66bb5d-5e63-4075-ae81-073c19d660d7"
      },
      "execution_count": null,
      "outputs": [
        {
          "output_type": "stream",
          "name": "stdout",
          "text": [
            "Enter the width of the room in meters: 10\n",
            "Enter the length of the room in meters: 20\n",
            "The area of the room is 200.0 square meters.\n"
          ]
        }
      ]
    },
    {
      "cell_type": "code",
      "source": [
        "field_width = float(input(\"Enter the width of the field in feet: \"))\n",
        "field_length = float(input(\"Enter the length of the field in feet: \"))\n",
        "field_area = field_width * field_length\n",
        "acres = field_area / 43560\n",
        "print(\"The area of the field is \" + str(acres) + \" acres.\")\n"
      ],
      "metadata": {
        "colab": {
          "base_uri": "https://localhost:8080/"
        },
        "id": "AnVIV7hr_Oph",
        "outputId": "91c03f61-5a17-4eee-dc83-e2f3626153d9"
      },
      "execution_count": null,
      "outputs": [
        {
          "output_type": "stream",
          "name": "stdout",
          "text": [
            "Enter the width of the field in feet: 25\n",
            "Enter the length of the field in feet: 15\n",
            "The area of the field is 0.008608815426997245 acres.\n"
          ]
        }
      ]
    },
    {
      "cell_type": "code",
      "source": [
        "small_containers = int(input(\"Enter the number of 1-liter containers: \"))\n",
        "large_containers = int(input(\"Enter the number of containers over 1 liter: \"))\n",
        "\n",
        "small_refund = small_containers * 0.10\n",
        "large_refund = large_containers * 0.25\n",
        "total_refund = small_refund + large_refund\n",
        "\n",
        "print(\"The refund for the containers is $%.2f.\" % total_refund)\n"
      ],
      "metadata": {
        "colab": {
          "base_uri": "https://localhost:8080/"
        },
        "id": "jXJV2ZT3_WFZ",
        "outputId": "716ecb05-4227-4b81-b708-e9f881a740eb"
      },
      "execution_count": null,
      "outputs": [
        {
          "output_type": "stream",
          "name": "stdout",
          "text": [
            "Enter the number of 1-liter containers: 10\n",
            "Enter the number of containers over 1 liter: 5\n",
            "The refund for the containers is $2.25.\n"
          ]
        }
      ]
    },
    {
      "cell_type": "code",
      "source": [
        "meal_cost = float(input(\"Enter the cost of the meal: \"))\n",
        "tax_rate = 0.08 # Example tax rate (adjust as necessary for your jurisdiction)\n",
        "tax = meal_cost * tax_rate\n",
        "tip = meal_cost * 0.18\n",
        "total = meal_cost + tax + tip\n",
        "\n",
        "print(\"Tax: %.2f\" % tax)\n",
        "print(\"Tip: %.2f\" % tip)\n",
        "print(\"Grand total: %.2f\" % total)\n"
      ],
      "metadata": {
        "colab": {
          "base_uri": "https://localhost:8080/"
        },
        "id": "OdwIYEaR_gUl",
        "outputId": "de7d9241-1d5a-476e-851f-e23ca833a88e"
      },
      "execution_count": null,
      "outputs": [
        {
          "output_type": "stream",
          "name": "stdout",
          "text": [
            "Enter the cost of the meal: 100\n",
            "Tax: 8.00\n",
            "Tip: 18.00\n",
            "Grand total: 126.00\n"
          ]
        }
      ]
    },
    {
      "cell_type": "code",
      "source": [
        "n = int(input(\"Enter a positive integer: \"))\n",
        "sum = 0\n",
        "for i in range(1, n+1):\n",
        "    sum += i\n",
        "print(\"The sum of all integers from 1 to\", n, \"is\", sum)\n"
      ],
      "metadata": {
        "colab": {
          "base_uri": "https://localhost:8080/"
        },
        "id": "D9A4H5yI_xQc",
        "outputId": "c29d5bda-54ee-4a3e-b6ea-3e04cc462b69"
      },
      "execution_count": null,
      "outputs": [
        {
          "output_type": "stream",
          "name": "stdout",
          "text": [
            "Enter a positive integer: 100\n",
            "The sum of all integers from 1 to 100 is 5050\n"
          ]
        }
      ]
    },
    {
      "cell_type": "code",
      "source": [
        "widgets = int(input(\"Enter the number of widgets: \"))\n",
        "gizmos = int(input(\"Enter the number of gizmos: \"))\n",
        "widget_weight = 75 # in grams\n",
        "gizmo_weight = 112 # in grams\n",
        "total_weight = widgets * widget_weight + gizmos * gizmo_weight\n",
        "print(\"The total weight of the order is\", total_weight, \"grams\")\n"
      ],
      "metadata": {
        "colab": {
          "base_uri": "https://localhost:8080/"
        },
        "id": "LUEJLPKy_0b1",
        "outputId": "032853c0-7882-4aaa-d081-83ef06201a63"
      },
      "execution_count": null,
      "outputs": [
        {
          "output_type": "stream",
          "name": "stdout",
          "text": [
            "Enter the number of widgets: 100\n",
            "Enter the number of gizmos: 50\n",
            "The total weight of the order is 13100 grams\n"
          ]
        }
      ]
    },
    {
      "cell_type": "code",
      "source": [
        "deposit = float(input(\"Enter the amount of money deposited: \"))\n",
        "interest_rate = 0.04\n",
        "\n",
        "print(\"Year\\tBalance\")\n",
        "for year in range(1, 4):\n",
        "    interest = deposit * interest_rate\n",
        "    deposit += interest\n",
        "    print(year, \"\\t$\", format(deposit, '.2f'))\n"
      ],
      "metadata": {
        "colab": {
          "base_uri": "https://localhost:8080/"
        },
        "id": "1mKecRTO_9Dw",
        "outputId": "3e9d8bc3-8a99-4f32-95dc-0304542b2ee6"
      },
      "execution_count": null,
      "outputs": [
        {
          "output_type": "stream",
          "name": "stdout",
          "text": [
            "Enter the amount of money deposited: 50000\n",
            "Year\tBalance\n",
            "1 \t$ 52000.00\n",
            "2 \t$ 54080.00\n",
            "3 \t$ 56243.20\n"
          ]
        }
      ]
    },
    {
      "cell_type": "code",
      "source": [
        "import math\n",
        "\n",
        "a = int(input(\"Enter the first integer: \"))\n",
        "b = int(input(\"Enter the second integer: \"))\n",
        "\n",
        "print(\"Sum: \", a + b)\n",
        "print(\"Difference: \", a - b)\n",
        "print(\"Product: \", a * b)\n",
        "print(\"Quotient: \", a / b)\n",
        "print(\"Remainder: \", a % b)\n",
        "print(\"Log10: \", math.log10(a))\n",
        "print(\"Power: \", a ** b)\n"
      ],
      "metadata": {
        "colab": {
          "base_uri": "https://localhost:8080/"
        },
        "id": "CzDFjFho_8iL",
        "outputId": "d1bd652f-0601-40b3-ecdc-04e462c997c3"
      },
      "execution_count": null,
      "outputs": [
        {
          "output_type": "stream",
          "name": "stdout",
          "text": [
            "Enter the first integer: 12\n",
            "Enter the second integer: 2\n",
            "Sum:  14\n",
            "Difference:  10\n",
            "Product:  24\n",
            "Quotient:  6.0\n",
            "Remainder:  0\n",
            "Log10:  1.0791812460476249\n",
            "Power:  144\n"
          ]
        }
      ]
    },
    {
      "cell_type": "code",
      "source": [
        "mpg = float(input(\"Enter the fuel efficiency in miles-per-gallon: \"))\n",
        "\n",
        "l_per_100_km = 235.215 / mpg\n",
        "\n",
        "print(\"The fuel efficiency in liters-per-hundred kilometers is: {:.2f}\".format(l_per_100_km))\n"
      ],
      "metadata": {
        "colab": {
          "base_uri": "https://localhost:8080/"
        },
        "id": "RlkbHkYfAIIn",
        "outputId": "8df90078-ae28-4b24-d5b0-d5dfc0af605f"
      },
      "execution_count": null,
      "outputs": [
        {
          "output_type": "stream",
          "name": "stdout",
          "text": [
            "Enter the fuel efficiency in miles-per-gallon: 30\n",
            "The fuel efficiency in liters-per-hundred kilometers is: 7.84\n"
          ]
        }
      ]
    },
    {
      "cell_type": "code",
      "source": [
        "import math\n",
        "\n",
        "def distance_between_points(t1, g1, t2, g2):\n",
        "    t1 = math.radians(t1)\n",
        "    g1 = math.radians(g1)\n",
        "    t2 = math.radians(t2)\n",
        "    g2 = math.radians(g2)\n",
        "    \n",
        "    distance = 6371.01 * math.acos(math.sin(t1) * math.sin(t2) + math.cos(t1) * math.cos(t2) * math.cos(g1 - g2))\n",
        "    return distance\n",
        "\n",
        "def main():\n",
        "    t1 = float(input(\"Enter the latitude of the first point in degrees: \"))\n",
        "    g1 = float(input(\"Enter the longitude of the first point in degrees: \"))\n",
        "    t2 = float(input(\"Enter the latitude of the second point in degrees: \"))\n",
        "    g2 = float(input(\"Enter the longitude of the second point in degrees: \"))\n",
        "    \n",
        "    distance = distance_between_points(t1, g1, t2, g2)\n",
        "    print(\"The distance between the two points is {:.2f} kilometers\".format(distance))\n",
        "\n",
        "if __name__ == '__main__':\n",
        "    main()\n"
      ],
      "metadata": {
        "colab": {
          "base_uri": "https://localhost:8080/"
        },
        "id": "tfIdRuHsAPto",
        "outputId": "575f9142-8e57-4dd1-c877-62c2a3c8c674"
      },
      "execution_count": null,
      "outputs": [
        {
          "output_type": "stream",
          "name": "stdout",
          "text": [
            "Enter the latitude of the first point in degrees: 10\n",
            "Enter the longitude of the first point in degrees: 20\n",
            "Enter the latitude of the second point in degrees: 15\n",
            "Enter the longitude of the second point in degrees: 25\n",
            "The distance between the two points is 776.86 kilometers\n"
          ]
        }
      ]
    },
    {
      "cell_type": "code",
      "source": [
        "cents = int(input(\"Enter the number of cents: \"))\n",
        "\n",
        "loonies = cents // 200\n",
        "cents = cents % 200\n",
        "\n",
        "toonies = cents // 100\n",
        "cents = cents % 100\n",
        "\n",
        "quarters = cents // 25\n",
        "cents = cents % 25\n",
        "\n",
        "dimes = cents // 10\n",
        "cents = cents % 10\n",
        "\n",
        "nickels = cents // 5\n",
        "cents = cents % 5\n",
        "\n",
        "pennies = cents\n",
        "\n",
        "print(\"Loonies:\", loonies)\n",
        "print(\"Toonies:\", toonies)\n",
        "print(\"Quarters:\", quarters)\n",
        "print(\"Dimes:\", dimes)\n",
        "print(\"Nickels:\", nickels)\n",
        "print(\"Pennies:\", pennies)\n"
      ],
      "metadata": {
        "colab": {
          "base_uri": "https://localhost:8080/"
        },
        "id": "PnXQO0mJAPm2",
        "outputId": "4b799b61-e80c-4149-9dcd-c0958d3182bb"
      },
      "execution_count": null,
      "outputs": [
        {
          "output_type": "stream",
          "name": "stdout",
          "text": [
            "Enter the number of cents: 100\n",
            "Loonies: 0\n",
            "Toonies: 1\n",
            "Quarters: 0\n",
            "Dimes: 0\n",
            "Nickels: 0\n",
            "Pennies: 0\n"
          ]
        }
      ]
    },
    {
      "cell_type": "code",
      "source": [
        "# Read the number of feet from the user\n",
        "feet = int(input(\"Enter the number of feet: \"))\n",
        "\n",
        "# Read the number of inches from the user\n",
        "inches = int(input(\"Enter the number of inches: \"))\n",
        "\n",
        "# Calculate the equivalent number of centimeters\n",
        "total_inches = feet * 12 + inches\n",
        "centimeters = total_inches * 2.54\n",
        "\n",
        "# Display the result\n",
        "print(f\"The equivalent in centimeters is: {centimeters:.2f} cm\")\n"
      ],
      "metadata": {
        "colab": {
          "base_uri": "https://localhost:8080/"
        },
        "id": "JdC3jZ34APfZ",
        "outputId": "517915b3-05f8-4653-970c-4b1562c95f61"
      },
      "execution_count": null,
      "outputs": [
        {
          "output_type": "stream",
          "name": "stdout",
          "text": [
            "Enter the number of feet: 20\n",
            "Enter the number of inches: 10\n",
            "The equivalent in centimeters is: 635.00 cm\n"
          ]
        }
      ]
    },
    {
      "cell_type": "code",
      "source": [
        "feet = float(input(\"Enter a distance in feet: \"))\n",
        "\n",
        "# Conversion factors\n",
        "inches_per_foot = 12\n",
        "yards_per_foot = 0.33333\n",
        "miles_per_foot = 0.000189394\n",
        "\n",
        "# Calculate equivalent distances in inches, yards, and miles\n",
        "inches = feet * inches_per_foot\n",
        "yards = feet * yards_per_foot\n",
        "miles = feet * miles_per_foot\n",
        "\n",
        "# Display the results\n",
        "print(\"%.2f feet is equal to %.2f inches.\" % (feet, inches))\n",
        "print(\"%.2f feet is equal to %.2f yards.\" % (feet, yards))\n",
        "print(\"%.2f feet is equal to %.2f miles.\" % (feet, miles))\n"
      ],
      "metadata": {
        "colab": {
          "base_uri": "https://localhost:8080/"
        },
        "id": "V_qTO4GEAPMd",
        "outputId": "15bb0272-e6b7-4c18-fb54-860f49414e7d"
      },
      "execution_count": null,
      "outputs": [
        {
          "output_type": "stream",
          "name": "stdout",
          "text": [
            "Enter a distance in feet: 30\n",
            "30.00 feet is equal to 360.00 inches.\n",
            "30.00 feet is equal to 10.00 yards.\n",
            "30.00 feet is equal to 0.01 miles.\n"
          ]
        }
      ]
    },
    {
      "cell_type": "code",
      "source": [
        "import math\n",
        "\n",
        "radius = float(input(\"Enter the radius: \"))\n",
        "\n",
        "area_of_circle = math.pi * radius**2\n",
        "volume_of_sphere = 4/3 * math.pi * radius**3\n",
        "\n",
        "print(\"The area of the circle is:\", round(area_of_circle, 2))\n",
        "print(\"The volume of the sphere is:\", round(volume_of_sphere, 2))\n"
      ],
      "metadata": {
        "colab": {
          "base_uri": "https://localhost:8080/"
        },
        "id": "oWRUZu0qAkZq",
        "outputId": "e8655e2e-b971-4156-d4af-0a08c996ec54"
      },
      "execution_count": null,
      "outputs": [
        {
          "output_type": "stream",
          "name": "stdout",
          "text": [
            "Enter the radius: 10\n",
            "The area of the circle is: 314.16\n",
            "The volume of the sphere is: 4188.79\n"
          ]
        }
      ]
    },
    {
      "cell_type": "code",
      "source": [
        "import math\n",
        "\n",
        "# Read the radius of the cylinder from the user\n",
        "radius = float(input(\"Enter the radius of the cylinder: \"))\n",
        "\n",
        "# Read the height of the cylinder from the user\n",
        "height = float(input(\"Enter the height of the cylinder: \"))\n",
        "\n",
        "# Compute the area of the circular base\n",
        "base_area = math.pi * radius**2\n",
        "\n",
        "# Compute the volume of the cylinder\n",
        "volume = base_area * height\n",
        "\n",
        "# Display the volume of the cylinder, rounded to one decimal place\n",
        "print(\"The volume of the cylinder is {:.1f}\".format(volume))\n"
      ],
      "metadata": {
        "colab": {
          "base_uri": "https://localhost:8080/"
        },
        "id": "b2Yi73liArNP",
        "outputId": "421a611f-b64f-4db6-b40b-f9ef1c4402bd"
      },
      "execution_count": null,
      "outputs": [
        {
          "output_type": "stream",
          "name": "stdout",
          "text": [
            "Enter the radius of the cylinder: 25\n",
            "Enter the height of the cylinder: 12\n",
            "The volume of the cylinder is 23561.9\n"
          ]
        }
      ]
    },
    {
      "cell_type": "code",
      "source": [
        "import math\n",
        "\n",
        "# Read the height from which the object is dropped\n",
        "height = float(input(\"Enter the height from which the object is dropped (in meters): \"))\n",
        "\n",
        "# Compute the final speed using the formula vf = ((vi*vi) + 2ad)^0.5\n",
        "acceleration = 9.8\n",
        "distance = height\n",
        "initial_speed = 0\n",
        "final_speed = math.sqrt(initial_speed**2 + 2*acceleration*distance)\n",
        "\n",
        "# Display the final speed\n",
        "print(\"The final speed of the object when it hits the ground is: {:.1f} m/s\".format(final_speed))\n"
      ],
      "metadata": {
        "colab": {
          "base_uri": "https://localhost:8080/"
        },
        "id": "MQSU40weArKo",
        "outputId": "77ca309f-01d9-49b8-9fdc-9c54629a7ff8"
      },
      "execution_count": null,
      "outputs": [
        {
          "output_type": "stream",
          "name": "stdout",
          "text": [
            "Enter the height from which the object is dropped (in meters): 12\n",
            "The final speed of the object when it hits the ground is: 15.3 m/s\n"
          ]
        }
      ]
    },
    {
      "cell_type": "code",
      "source": [
        "import math\n",
        "\n",
        "s1 = float(input(\"Enter the length of the first side: \"))\n",
        "s2 = float(input(\"Enter the length of the second side: \"))\n",
        "s3 = float(input(\"Enter the length of the third side: \"))\n",
        "\n",
        "s = (s1 + s2 + s3) / 2\n",
        "\n",
        "area = math.sqrt(s * (s - s1) * (s - s2) * (s - s3))\n",
        "\n",
        "print(\"The area of the triangle is:\", area)\n"
      ],
      "metadata": {
        "colab": {
          "base_uri": "https://localhost:8080/"
        },
        "id": "UOnnFoe-ArID",
        "outputId": "80141cb6-9a59-411b-c2bf-876dd6df7836"
      },
      "execution_count": null,
      "outputs": [
        {
          "output_type": "stream",
          "name": "stdout",
          "text": [
            "Enter the length of the first side: 12\n",
            "Enter the length of the second side: 9\n",
            "Enter the length of the third side: 13\n",
            "The area of the triangle is: 52.15361924162119\n"
          ]
        }
      ]
    },
    {
      "cell_type": "code",
      "source": [
        "def main():\n",
        "    # Read the length of the base of the triangle\n",
        "    b = float(input(\"Enter the length of the base of the triangle: \"))\n",
        "\n",
        "    # Read the height of the triangle\n",
        "    h = float(input(\"Enter the height of the triangle: \"))\n",
        "\n",
        "    # Compute the area of the triangle\n",
        "    area = (b * h) / 2\n",
        "\n",
        "    # Display the result\n",
        "    print(\"The area of the triangle is:\", area)\n",
        "\n",
        "if __name__ == \"__main__\":\n",
        "    main()\n"
      ],
      "metadata": {
        "colab": {
          "base_uri": "https://localhost:8080/"
        },
        "id": "ep1h_99hArC6",
        "outputId": "478e79c8-7c72-4072-a8c2-3761698ad7ed"
      },
      "execution_count": null,
      "outputs": [
        {
          "output_type": "stream",
          "name": "stdout",
          "text": [
            "Enter the length of the base of the triangle: 15\n",
            "Enter the height of the triangle: 12\n",
            "The area of the triangle is: 90.0\n"
          ]
        }
      ]
    },
    {
      "cell_type": "code",
      "source": [
        "seconds = int(input(\"Enter the number of seconds: \"))\n",
        "\n",
        "days = seconds // 86400\n",
        "seconds %= 86400\n",
        "hours = seconds // 3600\n",
        "seconds %= 3600\n",
        "minutes = seconds // 60\n",
        "seconds %= 60\n",
        "\n",
        "print(\"{:.0f}:{:02.0f}:{:02.0f}:{:02.0f}\".format(days, hours, minutes, seconds))\n"
      ],
      "metadata": {
        "colab": {
          "base_uri": "https://localhost:8080/"
        },
        "id": "odW9TorKAq7g",
        "outputId": "e9a6e2ce-b152-4a95-d09c-be76a678ff32"
      },
      "execution_count": null,
      "outputs": [
        {
          "output_type": "stream",
          "name": "stdout",
          "text": [
            "Enter the number of seconds: 50000\n",
            "0:13:53:20\n"
          ]
        }
      ]
    },
    {
      "cell_type": "code",
      "source": [
        "import time\n",
        "\n",
        "current_time = time.asctime()\n",
        "\n",
        "print(\"Current time and date:\", current_time)\n"
      ],
      "metadata": {
        "colab": {
          "base_uri": "https://localhost:8080/"
        },
        "id": "IFfPXZOYAqyB",
        "outputId": "21def17c-2ec7-4cf0-c3bf-9fb1179fcc1d"
      },
      "execution_count": null,
      "outputs": [
        {
          "output_type": "stream",
          "name": "stdout",
          "text": [
            "Current time and date: Sun Feb 12 14:25:39 2023\n"
          ]
        }
      ]
    },
    {
      "cell_type": "code",
      "source": [
        "def wind_chill_index(temperature, wind_speed):\n",
        "  if temperature > 10 or wind_speed <= 4.8:\n",
        "    return \"Invalid input. The wind chill index is only considered valid for temperatures less than or equal to 10 degrees Celsius and wind speeds exceeding 4.8 kilometers per hour.\"\n",
        "  \n",
        "  WCI = 13.12 + 0.6215 * temperature - 11.37 * wind_speed ** 0.16 + 0.3965 * temperature * wind_speed ** 0.16\n",
        "  return round(WCI)\n",
        "\n",
        "temperature = float(input(\"Enter the air temperature in degrees Celsius: \"))\n",
        "wind_speed = float(input(\"Enter the wind speed in kilometers per hour: \"))\n",
        "\n",
        "print(\"The wind chill index is:\", wind_chill_index(temperature, wind_speed))\n"
      ],
      "metadata": {
        "colab": {
          "base_uri": "https://localhost:8080/"
        },
        "id": "01GrB74-BGXt",
        "outputId": "335ba324-a595-4d25-c914-625b2213b89b"
      },
      "execution_count": null,
      "outputs": [
        {
          "output_type": "stream",
          "name": "stdout",
          "text": [
            "Enter the air temperature in degrees Celsius: 6\n",
            "Enter the wind speed in kilometers per hour: 30\n",
            "The wind chill index is: 1\n"
          ]
        }
      ]
    },
    {
      "cell_type": "code",
      "source": [
        "def celsius_to_fahrenheit(celsius):\n",
        "    return (celsius * 9/5) + 32\n",
        "\n",
        "def celsius_to_kelvin(celsius):\n",
        "    return celsius + 273.15\n",
        "\n",
        "celsius = float(input(\"Enter temperature in Celsius: \"))\n",
        "\n",
        "fahrenheit = celsius_to_fahrenheit(celsius)\n",
        "kelvin = celsius_to_kelvin(celsius)\n",
        "\n",
        "print(\"Temperature in Fahrenheit:\", fahrenheit)\n",
        "print(\"Temperature in Kelvin:\", kelvin)\n"
      ],
      "metadata": {
        "colab": {
          "base_uri": "https://localhost:8080/"
        },
        "id": "bv2e2NL6BLjZ",
        "outputId": "f5c147b4-4213-4a69-c7b8-f88cf6a530fc"
      },
      "execution_count": null,
      "outputs": [
        {
          "output_type": "stream",
          "name": "stdout",
          "text": [
            "Enter temperature in Celsius: 32\n",
            "Temperature in Fahrenheit: 89.6\n",
            "Temperature in Kelvin: 305.15\n"
          ]
        }
      ]
    },
    {
      "cell_type": "code",
      "source": [
        "def main():\n",
        "    # Read the four-digit integer from the user\n",
        "    number = int(input(\"Enter a four-digit integer: \"))\n",
        "\n",
        "    # Compute the sum of the digits in the number\n",
        "    sum_of_digits = 0\n",
        "    for digit in str(number):\n",
        "        sum_of_digits += int(digit)\n",
        "\n",
        "    # Display the sum of the digits\n",
        "    print(\"The sum of the digits is:\", sum_of_digits)\n",
        "\n",
        "# Call the main function to run the program\n",
        "if __name__ == \"__main__\":\n",
        "    main()\n"
      ],
      "metadata": {
        "colab": {
          "base_uri": "https://localhost:8080/"
        },
        "id": "IfETGWHLBR4o",
        "outputId": "6dd8edee-4ef5-4572-d782-648a79b89606"
      },
      "execution_count": null,
      "outputs": [
        {
          "output_type": "stream",
          "name": "stdout",
          "text": [
            "Enter a four-digit integer: 1234\n",
            "The sum of the digits is: 10\n"
          ]
        }
      ]
    },
    {
      "cell_type": "code",
      "source": [
        "# Read three integers from the user\n",
        "num1 = int(input(\"Enter first integer: \"))\n",
        "num2 = int(input(\"Enter second integer: \"))\n",
        "num3 = int(input(\"Enter third integer: \"))\n",
        "\n",
        "# Find the minimum and maximum values\n",
        "min_num = min(num1, num2, num3)\n",
        "max_num = max(num1, num2, num3)\n",
        "\n",
        "# Find the middle value\n",
        "middle_num = (num1 + num2 + num3) - (min_num + max_num)\n",
        "\n",
        "# Display the numbers in sorted order\n",
        "print(min_num, middle_num, max_num)\n",
        "12"
      ],
      "metadata": {
        "id": "WrvWFVLyBXhK",
        "outputId": "4af7c629-9d02-40b1-a4ae-85bff67746c2",
        "colab": {
          "base_uri": "https://localhost:8080/"
        }
      },
      "execution_count": null,
      "outputs": [
        {
          "output_type": "stream",
          "name": "stdout",
          "text": [
            "Enter first integer: 12\n",
            "Enter second integer: 13\n",
            "Enter third integer: 11\n",
            "11 12 13\n"
          ]
        }
      ]
    },
    {
      "cell_type": "code",
      "source": [
        "# Conversion factors\n",
        "KPA_TO_PSI = 0.145037738\n",
        "KPA_TO_MMHG = 7.50061683\n",
        "KPA_TO_ATM = 0.009869233\n",
        "\n",
        "# Read the pressure in kilopascals from the user\n",
        "kpa = float(input(\"Enter the pressure in kilopascals: \"))\n",
        "\n",
        "# Convert the pressure to pounds per square inch\n",
        "psi = kpa * KPA_TO_PSI\n",
        "\n",
        "# Convert the pressure to millimeters of mercury\n",
        "mmhg = kpa * KPA_TO_MMHG\n",
        "\n",
        "# Convert the pressure to atmospheres\n",
        "atm = kpa * KPA_TO_ATM\n",
        "\n",
        "# Display the equivalent pressures\n",
        "print(\"The equivalent pressure in pounds per square inch is:\", round(psi, 2), \"PSI\")\n",
        "print(\"The equivalent pressure in millimeters of mercury is:\", round(mmhg, 2), \"MMHG\")\n",
        "print(\"The equivalent pressure in atmospheres is:\", round(atm, 2), \"ATM\")\n"
      ],
      "metadata": {
        "id": "_jfnrhoHBagr",
        "outputId": "dab2c597-6975-40a3-9154-ab10a5181f6c",
        "colab": {
          "base_uri": "https://localhost:8080/"
        }
      },
      "execution_count": null,
      "outputs": [
        {
          "output_type": "stream",
          "name": "stdout",
          "text": [
            "Enter the pressure in kilopascals: 120\n",
            "The equivalent pressure in pounds per square inch is: 17.4 PSI\n",
            "The equivalent pressure in millimeters of mercury is: 900.07 MMHG\n",
            "The equivalent pressure in atmospheres is: 1.18 ATM\n"
          ]
        }
      ]
    },
    {
      "cell_type": "code",
      "source": [],
      "metadata": {
        "id": "3oQ1q5hhBcgO"
      },
      "execution_count": null,
      "outputs": []
    }
  ]
}