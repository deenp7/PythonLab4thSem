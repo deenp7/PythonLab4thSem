{
  "nbformat": 4,
  "nbformat_minor": 0,
  "metadata": {
    "colab": {
      "provenance": [],
      "include_colab_link": true
    },
    "kernelspec": {
      "name": "python3",
      "display_name": "Python 3"
    },
    "language_info": {
      "name": "python"
    }
  },
  "cells": [
    {
      "cell_type": "markdown",
      "metadata": {
        "id": "view-in-github",
        "colab_type": "text"
      },
      "source": [
        "<a href=\"https://colab.research.google.com/github/deepnp7/PythonLab4thSem/blob/main/PythonLab_16th_Jan.ipynb\" target=\"_parent\"><img src=\"https://colab.research.google.com/assets/colab-badge.svg\" alt=\"Open In Colab\"/></a>"
      ]
    },
    {
      "cell_type": "code",
      "execution_count": null,
      "metadata": {
        "id": "XrmlDxj2EAyy"
      },
      "outputs": [],
      "source": [
        "seconds_per_day=86400\n"
      ]
    },
    {
      "cell_type": "code",
      "source": [
        "sum=0\n",
        "sum+=1\n",
        "sum+=2\n",
        "sum+=3\n",
        "sum+=4\n",
        "sum"
      ],
      "metadata": {
        "colab": {
          "base_uri": "https://localhost:8080/"
        },
        "id": "OXwOzihKFpoG",
        "outputId": "12e2241f-450a-4d6d-f388-e463ef4ad4b7"
      },
      "execution_count": null,
      "outputs": [
        {
          "output_type": "execute_result",
          "data": {
            "text/plain": [
              "10"
            ]
          },
          "metadata": {},
          "execution_count": 5
        }
      ]
    },
    {
      "cell_type": "code",
      "source": [
        "sum=1 + \\\n",
        "    2 + \\\n",
        "    3 + \\\n",
        "    4\n",
        "  "
      ],
      "metadata": {
        "id": "XNY2AYWq_jOK"
      },
      "execution_count": null,
      "outputs": []
    },
    {
      "cell_type": "code",
      "source": [
        "disaster = True\n",
        "if disaster :\n",
        "  print(\"Woe ! \")\n",
        "else \n",
        "  print(\"Whee ! \")  "
      ],
      "metadata": {
        "colab": {
          "base_uri": "https://localhost:8080/"
        },
        "id": "lTm_YBuoD5Mr",
        "outputId": "29799a61-5bba-4dd9-d052-a79995381b62"
      },
      "execution_count": null,
      "outputs": [
        {
          "output_type": "stream",
          "name": "stdout",
          "text": [
            "Whee ! \n"
          ]
        }
      ]
    },
    {
      "cell_type": "code",
      "source": [
        "furry = True\n",
        "large = True\n",
        "if furry:\n",
        " if large:\n",
        "  print(\"It's a yeti.\")\n",
        " else:\n",
        "  print(\"It's a cat!\")\n",
        "else:\n",
        " if large:\n",
        "  print (\"It's a whale!\")\n",
        " else:\n",
        "  print(\"It's a human. Or a hairless cat.\")\n"
      ],
      "metadata": {
        "colab": {
          "base_uri": "https://localhost:8080/"
        },
        "id": "Dx0tFnZ2ESnx",
        "outputId": "7985fe6e-1aa5-4be6-e8c9-843c523542c9"
      },
      "execution_count": null,
      "outputs": [
        {
          "output_type": "stream",
          "name": "stdout",
          "text": [
            "It's a yeti.\n"
          ]
        }
      ]
    },
    {
      "cell_type": "code",
      "source": [
        "letter = 'o'\n",
        "if letter == 'a' or letter == 'e' or letter == '¡' \\\n",
        " or letter == 'o' or letter == 'u':\n",
        " print (letter, 'is a vowel') \n",
        "else:\n",
        " print(letter, 'is not a vowel')\n"
      ],
      "metadata": {
        "colab": {
          "base_uri": "https://localhost:8080/"
        },
        "id": "9Hf119V0HUiF",
        "outputId": "e0b7b559-931d-4ff8-d376-f529cde93010"
      },
      "execution_count": null,
      "outputs": [
        {
          "output_type": "stream",
          "name": "stdout",
          "text": [
            "o is a vowel\n"
          ]
        }
      ]
    },
    {
      "cell_type": "code",
      "source": [
        "vowels = 'aeiou'\n",
        "letter = 'o'\n",
        "letter in vowels"
      ],
      "metadata": {
        "colab": {
          "base_uri": "https://localhost:8080/"
        },
        "id": "6bhnFm2lHgqZ",
        "outputId": "b6a03347-b120-4791-f815-0b4924a18e4b"
      },
      "execution_count": null,
      "outputs": [
        {
          "output_type": "execute_result",
          "data": {
            "text/plain": [
              "True"
            ]
          },
          "metadata": {},
          "execution_count": 21
        }
      ]
    },
    {
      "cell_type": "code",
      "source": [
        "if letter in vowels:\n",
        " print(letter, 'is a vowel')\n"
      ],
      "metadata": {
        "colab": {
          "base_uri": "https://localhost:8080/"
        },
        "id": "020znxolHrjw",
        "outputId": "97d587d1-5982-425f-f41f-41bf7e2f2684"
      },
      "execution_count": null,
      "outputs": [
        {
          "output_type": "stream",
          "name": "stdout",
          "text": [
            "o is a vowel\n"
          ]
        }
      ]
    },
    {
      "cell_type": "code",
      "source": [
        "tweet_limit = 280\n",
        "tweet_string = \"Blah\" * 50\n",
        "diff = tweet_limit - len(tweet_string)\n",
        "if diff >= 0:\n",
        " print(\"A fitting tweet\")\n",
        "else:\n",
        " print (\"Went over by\", abs (diff))"
      ],
      "metadata": {
        "id": "8OGtUEacHyUC",
        "colab": {
          "base_uri": "https://localhost:8080/"
        },
        "outputId": "0b8e085c-b79c-4dce-fea8-9d7761a630e9"
      },
      "execution_count": null,
      "outputs": [
        {
          "output_type": "stream",
          "name": "stdout",
          "text": [
            "A fitting tweet\n"
          ]
        }
      ]
    },
    {
      "cell_type": "code",
      "source": [
        "tweet_limit = 280\n",
        "tweet_string = \"Blah\" * 50\n",
        "if diff := tweet_limit - len(tweet_string) >= 0:\n",
        " print(\"A fitting tweet\")\n",
        "else:\n",
        " print(\"Went over by\", abs(diff))"
      ],
      "metadata": {
        "colab": {
          "base_uri": "https://localhost:8080/"
        },
        "id": "1YD21mfixHMT",
        "outputId": "9bab32f2-53f8-4bab-ddcf-c06d48e1ff76"
      },
      "execution_count": null,
      "outputs": [
        {
          "output_type": "stream",
          "name": "stdout",
          "text": [
            "A fitting tweet\n"
          ]
        }
      ]
    },
    {
      "cell_type": "code",
      "source": [
        "name = input( \"Enter Employee Name: \")\n",
        "salary = input (\"Enter salary: \")\n",
        "company = input(\"Enter Company name: \")\n",
        "print(\"In\")\n",
        "print(\"Printing Employee Details\")\n",
        "print (\"\\n\")\n",
        "print(\"Printing Employee Details\")\n",
        "print(\"Name\", \"Salary\", \"Company\")\n",
        "print (name, salary, company)\n"
      ],
      "metadata": {
        "colab": {
          "base_uri": "https://localhost:8080/"
        },
        "id": "xcMZ0jp1xrEx",
        "outputId": "ceeb33b6-409e-47eb-adc4-80a23350c81d"
      },
      "execution_count": null,
      "outputs": [
        {
          "output_type": "stream",
          "name": "stdout",
          "text": [
            "Enter Employee Name: DNP\n",
            "Enter salary: 150\n",
            "Enter Company name: TX\n",
            "In\n",
            "Printing Employee Details\n",
            "\n",
            "\n",
            "Printing Employee Details\n",
            "Name Salary Company\n",
            "DNP 150 TX\n"
          ]
        }
      ]
    },
    {
      "cell_type": "code",
      "source": [
        "number = input(\"Enter roll number \")\n",
        "name = input(\"Enter age \")\n",
        "print(\"In\")\n",
        "print ('Roll number:', number, 'Name:', name)\n",
        "print(\"Printing type of a input values\")\n",
        "print(\"type of number\", type (number))\n",
        "print (\"type of name\", type (name))"
      ],
      "metadata": {
        "colab": {
          "base_uri": "https://localhost:8080/"
        },
        "id": "oH_yVYm3yZB2",
        "outputId": "f3bfef2c-166f-4a7c-87ad-3e27d24d82f0"
      },
      "execution_count": null,
      "outputs": [
        {
          "output_type": "stream",
          "name": "stdout",
          "text": [
            "Enter roll number 69\n",
            "Enter age 19\n",
            "In\n",
            "Roll number: 69 Name: 19\n",
            "Printing type of a input values\n",
            "type of number <class 'str'>\n",
            "type of name <class 'str'>\n"
          ]
        }
      ]
    },
    {
      "cell_type": "code",
      "source": [
        "first_number = int(input(\"Enter first number \"))\n",
        "second_number = int(input (\"Enter second number \"))\n",
        "print(\"In\")\n",
        "print(\"First Number:\", first_number)\n",
        "print (\"Second Number:\", second_number)\n",
        "sum1 = first_number + second_number\n",
        "print( \"Addition of two number is: \", sum1)"
      ],
      "metadata": {
        "colab": {
          "base_uri": "https://localhost:8080/"
        },
        "id": "qD5-0wS7yt2K",
        "outputId": "98e8b4ec-2b84-44b5-8328-4b36494d6a8e"
      },
      "execution_count": null,
      "outputs": [
        {
          "output_type": "stream",
          "name": "stdout",
          "text": [
            "Enter first number 123\n",
            "Enter second number 321\n",
            "In\n",
            "First Number: 123\n",
            "Second Number: 321\n",
            "Addition of two number is:  444\n"
          ]
        }
      ]
    },
    {
      "cell_type": "code",
      "source": [
        "marks = float(input( \"Enter marks \"))\n",
        "print (\"In\")\n",
        "print (\"Student marks is: \", marks)\n",
        "print(\"type is:\", type (marks))"
      ],
      "metadata": {
        "colab": {
          "base_uri": "https://localhost:8080/"
        },
        "id": "OuKmMJqTy2mk",
        "outputId": "f560316e-60e5-4d1b-94a5-f470e2d8af85"
      },
      "execution_count": null,
      "outputs": [
        {
          "output_type": "stream",
          "name": "stdout",
          "text": [
            "Enter marks 69.69\n",
            "In\n",
            "Student marks is:  69.69\n",
            "type is: <class 'float'>\n"
          ]
        }
      ]
    },
    {
      "cell_type": "code",
      "source": [
        "name, age, marks = input(\"Enter your Name, Age, Percentage separated by space \").split()\n",
        "print(\"In\")\n",
        "print (\"User Details: \", name, age, marks)"
      ],
      "metadata": {
        "colab": {
          "base_uri": "https://localhost:8080/"
        },
        "id": "qpJwSzhzzCRJ",
        "outputId": "6c89c946-be63-4c6c-cc63-e192be67e09e"
      },
      "execution_count": null,
      "outputs": [
        {
          "output_type": "stream",
          "name": "stdout",
          "text": [
            "Enter your Name, Age, Percentage separated by space DNP 18 69\n",
            "In\n",
            "User Details:  DNP 18 69\n"
          ]
        }
      ]
    },
    {
      "cell_type": "code",
      "source": [
        "\n",
        "name = input( \"Enter Name: \")\n",
        "print ('User Name:', name)\n"
      ],
      "metadata": {
        "colab": {
          "base_uri": "https://localhost:8080/"
        },
        "id": "uL0qKA2t0WRo",
        "outputId": "a92e0a77-a302-46f0-d063-8eaf3a566ade"
      },
      "execution_count": null,
      "outputs": [
        {
          "output_type": "stream",
          "name": "stdout",
          "text": [
            "Enter Name: ZATCH\n",
            "User Name: ZATCH\n"
          ]
        }
      ]
    },
    {
      "cell_type": "code",
      "source": [
        "name = input ('Enter Name ')\n",
        "zip_code = int (input('Enter zip code'))\n",
        "street = input ('Enter street name ')\n",
        "house_number = int(input ('Enter house number '))\n",
        "print (name, zip_code, street, house_number, sep=\"-\")"
      ],
      "metadata": {
        "colab": {
          "base_uri": "https://localhost:8080/"
        },
        "id": "nyFu0eHJ0sRb",
        "outputId": "d4ee62f9-3763-41e2-99c6-ab3052bfb192"
      },
      "execution_count": null,
      "outputs": [
        {
          "output_type": "stream",
          "name": "stdout",
          "text": [
            "Enter Name DP\n",
            "Enter zip code123\n",
            "Enter street name GB\n",
            "Enter house number 69\n",
            "DP-123-GB-69\n"
          ]
        }
      ]
    },
    {
      "cell_type": "code",
      "source": [
        "print ('FirstName - {0}, LastName - {1}'.format ('Ault', 'Kelly'))"
      ],
      "metadata": {
        "colab": {
          "base_uri": "https://localhost:8080/"
        },
        "id": "oG0PB0Ai1FGO",
        "outputId": "18d94ec1-1480-40b8-ada8-b7cadf0f7a1d"
      },
      "execution_count": null,
      "outputs": [
        {
          "output_type": "stream",
          "name": "stdout",
          "text": [
            "FirstName - Ault, LastName - Kelly\n"
          ]
        }
      ]
    },
    {
      "cell_type": "code",
      "source": [
        "firstName = input (\"Enter First Name \")\n",
        "lastName = input (\"Enter Last Name \")\n",
        "organization = input (\"Enter Organization Name \")\n",
        "print(\"\\n\")\n",
        "print ('{0}, {1} works at {2}'.format (firstName, lastName, organization))\n",
        "print('{1}, {0} works at {2}' .format (firstName, lastName, organization))\n",
        "print ('FirstName {0}, LastName {1} works at {2}'.format (firstName, lastName, organization))\n",
        "print('{0}, {1} {0}, {1} works at {2}' .format(firstName, lastName, organization))"
      ],
      "metadata": {
        "colab": {
          "base_uri": "https://localhost:8080/"
        },
        "id": "KYXeWkq71YDv",
        "outputId": "692e62b8-9a6e-4bb9-c918-326c948cb84e"
      },
      "execution_count": null,
      "outputs": [
        {
          "output_type": "stream",
          "name": "stdout",
          "text": [
            "Enter First Name DEEP\n",
            "Enter Last Name PATRA\n",
            "Enter Organization Name TX\n",
            "\n",
            "\n",
            "DEEP, PATRA works at TX\n",
            "PATRA, DEEP works at TX\n",
            "FirstName DEEP, LastName PATRA works at TX\n",
            "DEEP, PATRA DEEP, PATRA works at TX\n"
          ]
        }
      ]
    },
    {
      "cell_type": "code",
      "source": [
        "name = input( \"Enter Name \")\n",
        "marks = input( \"Enter marks \")\n",
        "print(\"\\n\")\n",
        "print ('Student: Name: {firstName}, Marks: {percentage}%' .format (firstName=name, percentage=marks))"
      ],
      "metadata": {
        "colab": {
          "base_uri": "https://localhost:8080/"
        },
        "id": "Yqvcw0Ld13Cj",
        "outputId": "908d0e23-11bb-4dca-caf8-8dc8533a4d04"
      },
      "execution_count": null,
      "outputs": [
        {
          "output_type": "stream",
          "name": "stdout",
          "text": [
            "Enter Name ZATCH\n",
            "Enter marks 69\n",
            "\n",
            "\n",
            "Student: Name: ZATCH, Marks: 69%\n"
          ]
        }
      ]
    },
    {
      "cell_type": "code",
      "source": [
        "text = input( \"Enter text \")\n",
        "print (\"\\n\")\n",
        "\n",
        "print('{:<25}'.format (text))\n",
        "\n",
        "print('{:>25}'.format (text))\n",
        "\n",
        "print('{:^25}'.format (text))"
      ],
      "metadata": {
        "colab": {
          "base_uri": "https://localhost:8080/"
        },
        "id": "fWc2Mpp92FoZ",
        "outputId": "ad2bb007-19f4-40a3-fd68-2617e9aa2e74"
      },
      "execution_count": null,
      "outputs": [
        {
          "output_type": "stream",
          "name": "stdout",
          "text": [
            "Enter text HII I'M ZATCH\n",
            "\n",
            "\n",
            "HII I'M ZATCH            \n",
            "            HII I'M ZATCH\n",
            "      HII I'M ZATCH      \n"
          ]
        }
      ]
    },
    {
      "cell_type": "code",
      "source": [
        "positive_number = float(input(\"Enter Positive Number \"))\n",
        "negative_number = float (input(\"Enter Negative Number \"))\n",
        "print(\"In\")\n",
        "\n",
        "print('{:+f}; {:+f}'.format (positive_number, negative_number))\n",
        "\n",
        "print('{:f}; {:-f}'.format (positive_number, negative_number))\n"
      ],
      "metadata": {
        "colab": {
          "base_uri": "https://localhost:8080/"
        },
        "id": "bp6VkpWF2a6o",
        "outputId": "e0db9578-1996-40f8-97a3-1ad6ecbc7c71"
      },
      "execution_count": null,
      "outputs": [
        {
          "output_type": "stream",
          "name": "stdout",
          "text": [
            "Enter Positive Number 10\n",
            "Enter Negative Number -10\n",
            "In\n",
            "+10.000000; -10.000000\n",
            "10.000000; -10.000000\n"
          ]
        }
      ]
    },
    {
      "cell_type": "code",
      "source": [
        "number = int(input (\"Enter number \"))\n",
        "print(\"\\n\")\n",
        "\n",
        "print (\"The number is:{:d}\".format (number))\n",
        "\n",
        "print('Output number in octal format : {0:0}' .format (number))\n",
        "\n",
        "print ('Output number in binary format: {0:b}'.format (number))\n",
        "\n",
        "print ('Output number in hexadecimal format: {0:X}'.format (number))\n",
        "\n",
        "print ('Output number in HEXADECIMAL: {0: X}'.format (number))"
      ],
      "metadata": {
        "colab": {
          "base_uri": "https://localhost:8080/"
        },
        "id": "UtzBOp6t2uHz",
        "outputId": "325a223e-ef50-4613-85dc-38f2e51dca9f"
      },
      "execution_count": null,
      "outputs": [
        {
          "output_type": "stream",
          "name": "stdout",
          "text": [
            "Enter number 123\n",
            "\n",
            "\n",
            "The number is:123\n",
            "Output number in octal format : 123\n",
            "Output number in binary format: 1111011\n",
            "Output number in hexadecimal format: 7B\n",
            "Output number in HEXADECIMAL:  7B\n"
          ]
        }
      ]
    },
    {
      "cell_type": "code",
      "source": [
        "number = float(input(\"Enter float Number \"))\n",
        "print(\"\\n\")\n",
        "\n",
        "print(\"Output Number in The float type:{:f}\" .format (number))\n",
        "\n",
        "print ('padding for output float number{: 5.2f}' .format (number))\n",
        "\n",
        "print ('Output Exponent notation{:e}'.format (number))\n",
        "\n",
        "print ('Output Exponent notation{:E}'.format (number))"
      ],
      "metadata": {
        "colab": {
          "base_uri": "https://localhost:8080/"
        },
        "id": "3ji3ueEN3et5",
        "outputId": "0b8e62f4-54b9-4466-8717-224967726fe7"
      },
      "execution_count": null,
      "outputs": [
        {
          "output_type": "stream",
          "name": "stdout",
          "text": [
            "Enter float Number 69.69\n",
            "\n",
            "\n",
            "Output Number in The float type:69.690000\n",
            "padding for output float number 69.69\n",
            "Output Exponent notation6.969000e+01\n",
            "Output Exponent notation6.969000E+01\n"
          ]
        }
      ]
    },
    {
      "cell_type": "code",
      "source": [
        "text = input(\"Enter String : \")\n",
        "print(\"In\")\n",
        "print(\"Left justification\", text.ljust (20, \"*\"))\n",
        "print(\"Right justification\", text.rjust (20, \"*\"))\n",
        "print(\"Center justification\", text.center (20, \"*\"))\n"
      ],
      "metadata": {
        "colab": {
          "base_uri": "https://localhost:8080/"
        },
        "id": "85782ddX307a",
        "outputId": "e50d76a9-f1ec-4e94-a455-dc8e3b5450e1"
      },
      "execution_count": null,
      "outputs": [
        {
          "output_type": "stream",
          "name": "stdout",
          "text": [
            "Enter String : zatcg\n",
            "In\n",
            "Left justification zatcg***************\n",
            "Right justification ***************zatcg\n",
            "Center justification *******zatcg********\n"
          ]
        }
      ]
    },
    {
      "cell_type": "code",
      "source": [],
      "metadata": {
        "id": "fNUHMiuw4OJZ"
      },
      "execution_count": null,
      "outputs": []
    }
  ]
}