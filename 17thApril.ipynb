{
  "cells": [
    {
      "cell_type": "markdown",
      "metadata": {
        "id": "view-in-github",
        "colab_type": "text"
      },
      "source": [
        "<a href=\"https://colab.research.google.com/github/deepnp7/PythonLab4thSem/blob/main/17thApril.ipynb\" target=\"_parent\"><img src=\"https://colab.research.google.com/assets/colab-badge.svg\" alt=\"Open In Colab\"/></a>"
      ]
    },
    {
      "cell_type": "code",
      "execution_count": null,
      "metadata": {
        "id": "nRnaZyKYDBd8"
      },
      "outputs": [],
      "source": [
        "class Cat():\n",
        "  pass"
      ]
    },
    {
      "cell_type": "code",
      "execution_count": null,
      "metadata": {
        "colab": {
          "base_uri": "https://localhost:8080/"
        },
        "id": "LBl1HVZjDI3Y",
        "outputId": "3a19972d-44f9-4a5f-e980-1aa5bac97d75"
      },
      "outputs": [
        {
          "data": {
            "text/plain": [
              "<__main__.Cat at 0x7f6d0af1ce80>"
            ]
          },
          "execution_count": 3,
          "metadata": {},
          "output_type": "execute_result"
        }
      ],
      "source": [
        "class Cat():\n",
        "  pass\n",
        "a_cat=Cat()\n",
        "a_cat  "
      ]
    },
    {
      "cell_type": "code",
      "execution_count": null,
      "metadata": {
        "colab": {
          "base_uri": "https://localhost:8080/"
        },
        "id": "cetar79_DvJo",
        "outputId": "b3dd525e-441d-4ebe-8248-aeda86049e3e"
      },
      "outputs": [
        {
          "data": {
            "text/plain": [
              "<__main__.Cat at 0x7f6d0af1c190>"
            ]
          },
          "execution_count": 4,
          "metadata": {},
          "output_type": "execute_result"
        }
      ],
      "source": [
        "another_cat = Cat()\n",
        "another_cat"
      ]
    },
    {
      "cell_type": "code",
      "execution_count": null,
      "metadata": {
        "id": "w5YBEMBiDi4c"
      },
      "outputs": [],
      "source": [
        "a_cat.age = 3\n",
        "a_cat.name = \"Mr. Fuzzybuttons\"\n",
        "a_cat.nemesis = another_cat"
      ]
    },
    {
      "cell_type": "code",
      "execution_count": null,
      "metadata": {
        "colab": {
          "base_uri": "https://localhost:8080/"
        },
        "id": "IOOQjbIFD7Fr",
        "outputId": "3fe97f03-82c0-418c-e368-3b61c274db95"
      },
      "outputs": [
        {
          "data": {
            "text/plain": [
              "3"
            ]
          },
          "execution_count": 7,
          "metadata": {},
          "output_type": "execute_result"
        }
      ],
      "source": [
        "a_cat.age"
      ]
    },
    {
      "cell_type": "code",
      "execution_count": null,
      "metadata": {
        "colab": {
          "base_uri": "https://localhost:8080/",
          "height": 35
        },
        "id": "9ndSytodD-DM",
        "outputId": "2e08b45e-9a6f-4510-b5d7-09d09f1ab871"
      },
      "outputs": [
        {
          "data": {
            "application/vnd.google.colaboratory.intrinsic+json": {
              "type": "string"
            },
            "text/plain": [
              "'Mr. Fuzzybuttons'"
            ]
          },
          "execution_count": 8,
          "metadata": {},
          "output_type": "execute_result"
        }
      ],
      "source": [
        "a_cat.name"
      ]
    },
    {
      "cell_type": "code",
      "execution_count": null,
      "metadata": {
        "colab": {
          "base_uri": "https://localhost:8080/"
        },
        "id": "Wtl7Ym_4EC9u",
        "outputId": "38402f6f-8f9d-4df0-87c3-b90c3e2167be"
      },
      "outputs": [
        {
          "data": {
            "text/plain": [
              "<__main__.Cat at 0x7f6d0af1c190>"
            ]
          },
          "execution_count": 9,
          "metadata": {},
          "output_type": "execute_result"
        }
      ],
      "source": [
        "a_cat.nemesis"
      ]
    },
    {
      "cell_type": "code",
      "execution_count": null,
      "metadata": {
        "id": "YxvGl4BvEFTO"
      },
      "outputs": [],
      "source": [
        "class Cat:\n",
        " def _init_(self):\n",
        "  pass"
      ]
    },
    {
      "cell_type": "code",
      "execution_count": null,
      "metadata": {
        "id": "xnBhnNxVEjqw"
      },
      "outputs": [],
      "source": [
        "class Cat ( ):\n",
        " def _init_(self, name):\n",
        "  self.name = name"
      ]
    },
    {
      "cell_type": "code",
      "execution_count": null,
      "metadata": {
        "id": "lH_CkB4-EtPv"
      },
      "outputs": [],
      "source": [
        "class Car():\n",
        "  pass\n",
        "\n",
        "class Yugo (Car):\n",
        "  pass  "
      ]
    },
    {
      "cell_type": "code",
      "execution_count": null,
      "metadata": {
        "colab": {
          "base_uri": "https://localhost:8080/"
        },
        "id": "4RAKyNEoFIIV",
        "outputId": "c72680e0-1c28-4dd1-e2f1-aeeaa477a6ff"
      },
      "outputs": [
        {
          "data": {
            "text/plain": [
              "True"
            ]
          },
          "execution_count": 16,
          "metadata": {},
          "output_type": "execute_result"
        }
      ],
      "source": [
        "issubclass(Yugo,Car)"
      ]
    },
    {
      "cell_type": "code",
      "execution_count": null,
      "metadata": {
        "id": "7u5QevziFNCZ"
      },
      "outputs": [],
      "source": [
        "give_me_a_car=Car()\n",
        "give_me_a_yugo=Yugo()"
      ]
    },
    {
      "cell_type": "code",
      "execution_count": null,
      "metadata": {
        "id": "XcNW4QnrFWsZ"
      },
      "outputs": [],
      "source": [
        "class Car():\n",
        " def exclaim(self):\n",
        "  print (\"I'm a Car!\")\n",
        "class Yugo (Car):\n",
        " pass"
      ]
    },
    {
      "cell_type": "code",
      "execution_count": null,
      "metadata": {
        "id": "h05qQuMYFiMB"
      },
      "outputs": [],
      "source": [
        "give_me_a_car = Car()\n",
        "give_me_a_yugo = Yugo()\n",
        "\n"
      ]
    },
    {
      "cell_type": "code",
      "execution_count": null,
      "metadata": {
        "colab": {
          "base_uri": "https://localhost:8080/"
        },
        "id": "liJRhf2yF6Az",
        "outputId": "b7c34493-3830-4606-eca8-9675f4de495a"
      },
      "outputs": [
        {
          "name": "stdout",
          "output_type": "stream",
          "text": [
            "I'm a Car!\n",
            "I'm a Car!\n"
          ]
        }
      ],
      "source": [
        "give_me_a_car.exclaim()\n",
        "give_me_a_yugo.exclaim()"
      ]
    },
    {
      "cell_type": "code",
      "execution_count": null,
      "metadata": {
        "id": "31bLEsf1F6uh"
      },
      "outputs": [],
      "source": [
        "class Car:\n",
        " def exclaim(self):\n",
        "  print (\"I'm a Car!\")\n",
        "class Yugo (Car):\n",
        " def exclaim(self):\n",
        "  print(\"I'm a Yugo! Much like a Car, but more Yugo-ish.\")"
      ]
    },
    {
      "cell_type": "code",
      "execution_count": null,
      "metadata": {
        "colab": {
          "base_uri": "https://localhost:8080/"
        },
        "id": "3jFhEOMmGM4Z",
        "outputId": "fb6caac3-d5e3-453a-db05-6e4d9bbb228c"
      },
      "outputs": [
        {
          "name": "stdout",
          "output_type": "stream",
          "text": [
            "I'm a Car!\n",
            "I'm a Yugo! Much like a Car, but more Yugo-ish.\n"
          ]
        }
      ],
      "source": [
        "give_me_a_car = Car ()\n",
        "give_me_a_yugo = Yugo ()\n",
        "give_me_a_car.exclaim()\n",
        "give_me_a_yugo.exclaim()"
      ]
    },
    {
      "cell_type": "code",
      "execution_count": null,
      "metadata": {
        "id": "_RLc7evdGk4j"
      },
      "outputs": [],
      "source": [
        "class Person:\n",
        " def _init__(self, name):\n",
        "  self.name = name\n",
        "class MDPerson(Person):\n",
        " def _init__(self, name):\n",
        "  self.name = \"Doctor \" + name\n",
        "class JDPerson(Person):\n",
        " def _init__(self, name):\n",
        "  self.name = name + \", Esquire\""
      ]
    },
    {
      "cell_type": "code",
      "execution_count": null,
      "metadata": {
        "colab": {
          "background_save": true
        },
        "id": "wcyYkjwh5yyc"
      },
      "outputs": [],
      "source": [
        "class Car ( ):\n",
        " def exclaim(self):\n",
        "  print (\"I'm a Car!\")\n",
        "class Yugo (Car):\n",
        " def exclaim(self):\n",
        "  print(\"I'm a Yugo! Much like a Car, but more Yugo-ish.\")\n",
        " def need_a_push (self):\n",
        "  print(\"A little help here?\")\n",
        "\n",
        "give_me_a_car = Car ()\n",
        "give_me_a_yugo = Yugo()"
      ]
    },
    {
      "cell_type": "code",
      "source": [
        "class Car():\n",
        "  def exclaim(self):\n",
        "    print(\"Im a Car!\")\n",
        "class Yugo(Car):\n",
        "  def exclaim(self):\n",
        "    print(\"Im a Yugo! Much like a car, but more Yugo-ish\") \n",
        "  def need_a_push(self):\n",
        "    print(\"A little help here ?\")     "
      ],
      "metadata": {
        "id": "lUlQYdur8faU"
      },
      "execution_count": null,
      "outputs": []
    },
    {
      "cell_type": "code",
      "source": [
        "give_me_a_car = Car ()\n",
        "give_me_a_yugo = Yugo ()\n",
        "give_me_a_car.exclaim()\n",
        "give_me_a_yugo.exclaim()"
      ],
      "metadata": {
        "colab": {
          "base_uri": "https://localhost:8080/"
        },
        "id": "eg9keXHYAkj3",
        "outputId": "8cef7013-23e3-40c9-cb5c-c96f33f4193a"
      },
      "execution_count": null,
      "outputs": [
        {
          "output_type": "stream",
          "name": "stdout",
          "text": [
            "Im a Car!\n",
            "Im a Yugo! Much like a car, but more Yugo-ish\n"
          ]
        }
      ]
    },
    {
      "cell_type": "code",
      "source": [
        "class Person:\n",
        " def _init_(self, name):\n",
        "  self.name = name"
      ],
      "metadata": {
        "id": "xaxQZiBcAoy-"
      },
      "execution_count": null,
      "outputs": []
    }
  ],
  "metadata": {
    "colab": {
      "provenance": [],
      "include_colab_link": true
    },
    "kernelspec": {
      "display_name": "Python 3",
      "name": "python3"
    },
    "language_info": {
      "name": "python"
    }
  },
  "nbformat": 4,
  "nbformat_minor": 0
}