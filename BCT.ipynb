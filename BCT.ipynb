{
  "nbformat": 4,
  "nbformat_minor": 0,
  "metadata": {
    "colab": {
      "provenance": [],
      "authorship_tag": "ABX9TyMPMQfpJyBHvPlaYQ+02PFX",
      "include_colab_link": true
    },
    "kernelspec": {
      "name": "python3",
      "display_name": "Python 3"
    },
    "language_info": {
      "name": "python"
    }
  },
  "cells": [
    {
      "cell_type": "markdown",
      "metadata": {
        "id": "view-in-github",
        "colab_type": "text"
      },
      "source": [
        "<a href=\"https://colab.research.google.com/github/deepnp7/PythonLab4thSem/blob/main/BCT.ipynb\" target=\"_parent\"><img src=\"https://colab.research.google.com/assets/colab-badge.svg\" alt=\"Open In Colab\"/></a>"
      ]
    },
    {
      "cell_type": "code",
      "execution_count": null,
      "metadata": {
        "colab": {
          "base_uri": "https://localhost:8080/"
        },
        "id": "hziWvbsFq7Mn",
        "outputId": "92e891e8-3b60-4d27-d591-d50b99e9ba28"
      },
      "outputs": [
        {
          "output_type": "stream",
          "name": "stdout",
          "text": [
            "zatch\n",
            "zatch\n",
            "23 abc as\n",
            "as\n"
          ]
        }
      ],
      "source": [
        "print(\"zatch\")\n",
        "print('zatch')\n",
        "a = 23\n",
        "b = \"as\"\n",
        "print(a,\"abc\",b)\n",
        "print(b)"
      ]
    },
    {
      "cell_type": "code",
      "source": [
        "i=20\n",
        "j=20\n",
        "if i<j:\n",
        "    print (\"i is Greater\")\n",
        "else:\n",
        "    print(\"j is Greater\")"
      ],
      "metadata": {
        "colab": {
          "base_uri": "https://localhost:8080/"
        },
        "id": "nhG6Si3prDTd",
        "outputId": "58dfe91b-256d-48b2-f821-24c2b8d49702"
      },
      "execution_count": null,
      "outputs": [
        {
          "output_type": "stream",
          "name": "stdout",
          "text": [
            "j is Greater\n"
          ]
        }
      ]
    },
    {
      "cell_type": "code",
      "source": [
        "i=1\n",
        "while i<10:\n",
        "    print(i)\n",
        "    i+=1"
      ],
      "metadata": {
        "colab": {
          "base_uri": "https://localhost:8080/"
        },
        "id": "N_W3qbknrIs2",
        "outputId": "5ee34ffc-1cec-43f9-8c6f-94ed909ff02d"
      },
      "execution_count": null,
      "outputs": [
        {
          "output_type": "stream",
          "name": "stdout",
          "text": [
            "1\n",
            "2\n",
            "3\n",
            "4\n",
            "5\n",
            "6\n",
            "7\n",
            "8\n",
            "9\n"
          ]
        }
      ]
    },
    {
      "cell_type": "code",
      "source": [
        "i=1\n",
        "while i<10:\n",
        "    print(i)\n",
        "    if i==7:\n",
        "      break\n",
        "    i+=1"
      ],
      "metadata": {
        "colab": {
          "base_uri": "https://localhost:8080/"
        },
        "id": "Spxo6_nhrKAG",
        "outputId": "c7a9ef85-5691-418f-9840-3e6dc52917ed"
      },
      "execution_count": null,
      "outputs": [
        {
          "output_type": "stream",
          "name": "stdout",
          "text": [
            "1\n",
            "2\n",
            "3\n",
            "4\n",
            "5\n",
            "6\n",
            "7\n"
          ]
        }
      ]
    },
    {
      "cell_type": "code",
      "source": [
        "i=40\n",
        "j=30\n",
        "if i<j:\n",
        "    print (\"i is Greater\")\n",
        "elif i==j:\n",
        "    print(\"i and j are Equal\")    \n",
        "else:\n",
        "    print(\"j is Greater\")"
      ],
      "metadata": {
        "colab": {
          "base_uri": "https://localhost:8080/"
        },
        "id": "RUHfYVfgsLSN",
        "outputId": "9b914c28-8db8-4ac0-e2cc-e29373a3b4d2"
      },
      "execution_count": null,
      "outputs": [
        {
          "output_type": "stream",
          "name": "stdout",
          "text": [
            "j is Greater\n"
          ]
        }
      ]
    },
    {
      "cell_type": "code",
      "source": [
        "for j in range (0, 7):\n",
        "  print(j)"
      ],
      "metadata": {
        "colab": {
          "base_uri": "https://localhost:8080/"
        },
        "id": "dZXefMb7s8cQ",
        "outputId": "0fa9294d-c5e9-4cb3-dfb6-da38c693b89b"
      },
      "execution_count": null,
      "outputs": [
        {
          "output_type": "stream",
          "name": "stdout",
          "text": [
            "0\n",
            "1\n",
            "2\n",
            "3\n",
            "4\n",
            "5\n",
            "6\n"
          ]
        }
      ]
    },
    {
      "cell_type": "code",
      "source": [
        "for X in \"ABCD\":\n",
        "  print (X)"
      ],
      "metadata": {
        "colab": {
          "base_uri": "https://localhost:8080/"
        },
        "id": "gqFLTshBs3Ng",
        "outputId": "7e577de6-28cd-47e6-c041-88f882fb9141"
      },
      "execution_count": null,
      "outputs": [
        {
          "output_type": "stream",
          "name": "stdout",
          "text": [
            "A\n",
            "B\n",
            "C\n",
            "D\n"
          ]
        }
      ]
    },
    {
      "cell_type": "code",
      "source": [
        "for X in \"A B C D\":\n",
        "  print(X, end=\"\")\n"
      ],
      "metadata": {
        "colab": {
          "base_uri": "https://localhost:8080/"
        },
        "id": "OlaOMWnzwSk-",
        "outputId": "36749d38-fbf0-41e5-bd62-d5e03a36af4e"
      },
      "execution_count": null,
      "outputs": [
        {
          "output_type": "stream",
          "name": "stdout",
          "text": [
            "A B C D"
          ]
        }
      ]
    },
    {
      "cell_type": "code",
      "source": [
        "for X in \"A B C D\":\n",
        "  print(type(X))"
      ],
      "metadata": {
        "colab": {
          "base_uri": "https://localhost:8080/"
        },
        "id": "vXqSDLyaylyP",
        "outputId": "eb08bfd5-52df-4dd1-8ce5-4edbd2b97526"
      },
      "execution_count": null,
      "outputs": [
        {
          "output_type": "stream",
          "name": "stdout",
          "text": [
            "<class 'str'>\n",
            "<class 'str'>\n",
            "<class 'str'>\n",
            "<class 'str'>\n",
            "<class 'str'>\n",
            "<class 'str'>\n",
            "<class 'str'>\n"
          ]
        }
      ]
    },
    {
      "cell_type": "code",
      "source": [
        "import sys\n",
        "print(sys.getsizeof(int()))"
      ],
      "metadata": {
        "colab": {
          "base_uri": "https://localhost:8080/"
        },
        "id": "82DCaMbxx4ou",
        "outputId": "153128c3-4ff8-4db7-8c1a-e59ae4a44aa0"
      },
      "execution_count": null,
      "outputs": [
        {
          "output_type": "stream",
          "name": "stdout",
          "text": [
            "24\n"
          ]
        }
      ]
    },
    {
      "cell_type": "code",
      "source": [
        " c=input(\"Enter the character :\")\n",
        " print(ord(c))"
      ],
      "metadata": {
        "colab": {
          "base_uri": "https://localhost:8080/"
        },
        "id": "vePu7bmUyt2J",
        "outputId": "01c1918f-0da8-4632-c263-7cfcf147d559"
      },
      "execution_count": null,
      "outputs": [
        {
          "output_type": "stream",
          "name": "stdout",
          "text": [
            "Enter the character :Z\n",
            "90\n"
          ]
        }
      ]
    },
    {
      "cell_type": "code",
      "source": [
        "list_item=[\"ABC\",\"def\",\"GHI\"]\n",
        "print(list_item)"
      ],
      "metadata": {
        "colab": {
          "base_uri": "https://localhost:8080/"
        },
        "id": "ccJ9YQryM3_3",
        "outputId": "faea715c-886e-48d3-f022-b0af088626f5"
      },
      "execution_count": null,
      "outputs": [
        {
          "output_type": "stream",
          "name": "stdout",
          "text": [
            "['ABC', 'def', 'GHI']\n"
          ]
        }
      ]
    },
    {
      "cell_type": "code",
      "source": [
        "list_item=['ABC','def','GHI']\n",
        "print(list_item)"
      ],
      "metadata": {
        "colab": {
          "base_uri": "https://localhost:8080/"
        },
        "id": "dTE200vyNsEI",
        "outputId": "fda45128-3de5-4383-ab4d-43d068f90608"
      },
      "execution_count": null,
      "outputs": [
        {
          "output_type": "stream",
          "name": "stdout",
          "text": [
            "['ABC', 'def', 'GHI']\n"
          ]
        }
      ]
    },
    {
      "cell_type": "code",
      "source": [
        "y=[True,False,\"Apple\",\"Banana\",\"Peach\"]\n",
        "print(y)"
      ],
      "metadata": {
        "colab": {
          "base_uri": "https://localhost:8080/"
        },
        "id": "PXlYqSqmOq5M",
        "outputId": "f6656347-f096-4a2b-87b8-7fc7d280887e"
      },
      "execution_count": null,
      "outputs": [
        {
          "output_type": "stream",
          "name": "stdout",
          "text": [
            "[True, False, 'Apple', 'Banana', 'Peach']\n"
          ]
        }
      ]
    },
    {
      "cell_type": "code",
      "source": [
        "y=[True,False,\"Apple\",\"Banana\",\"Peach\"]\n",
        "print(y)\n",
        "print(y[0])\n",
        "print(y[-1])\n",
        "print(y[1])\n",
        "print(y[3])\n",
        "print(y[-2])\n",
        "print(y[-3])\n",
        "print(len(y))"
      ],
      "metadata": {
        "colab": {
          "base_uri": "https://localhost:8080/"
        },
        "id": "gRpn8kAOPJSd",
        "outputId": "d291e0c5-4931-4290-8fc1-c0f21b3aad51"
      },
      "execution_count": null,
      "outputs": [
        {
          "output_type": "stream",
          "name": "stdout",
          "text": [
            "[True, False, 'Apple', 'Banana', 'Peach']\n",
            "True\n",
            "Peach\n",
            "False\n",
            "Banana\n",
            "Banana\n",
            "Apple\n",
            "5\n"
          ]
        }
      ]
    }
  ]
}