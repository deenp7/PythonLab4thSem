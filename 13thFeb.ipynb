{
  "nbformat": 4,
  "nbformat_minor": 0,
  "metadata": {
    "colab": {
      "provenance": [],
      "authorship_tag": "ABX9TyOcT7fYFgpbA7zVxfxjXDkO",
      "include_colab_link": true
    },
    "kernelspec": {
      "name": "python3",
      "display_name": "Python 3"
    },
    "language_info": {
      "name": "python"
    }
  },
  "cells": [
    {
      "cell_type": "markdown",
      "metadata": {
        "id": "view-in-github",
        "colab_type": "text"
      },
      "source": [
        "<a href=\"https://colab.research.google.com/github/deepnp7/PythonLab4thSem/blob/main/13thFeb.ipynb\" target=\"_parent\"><img src=\"https://colab.research.google.com/assets/colab-badge.svg\" alt=\"Open In Colab\"/></a>"
      ]
    },
    {
      "cell_type": "code",
      "execution_count": null,
      "metadata": {
        "colab": {
          "base_uri": "https://localhost:8080/"
        },
        "id": "cBO3025RaW0n",
        "outputId": "b942eace-27ac-4fba-92f1-eb8866c315f4"
      },
      "outputs": [
        {
          "output_type": "stream",
          "name": "stdout",
          "text": [
            "Number of even numbers: 5\n",
            "Number of odd numbers: 5\n"
          ]
        }
      ],
      "source": [
        "numbers = [1, 2, 3, 4, 5, 6, 7, 8, 9, 10]\n",
        "\n",
        "even_count = 0\n",
        "odd_count = 0\n",
        "\n",
        "for number in numbers:\n",
        "  if number % 2 == 0:\n",
        "    even_count += 1\n",
        "  else:\n",
        "    odd_count += 1\n",
        "\n",
        "print(\"Number of even numbers:\", even_count)\n",
        "print(\"Number of odd numbers:\", odd_count)\n"
      ]
    },
    {
      "cell_type": "code",
      "source": [
        "for number in range(0, 7):\n",
        "  if number == 3 or number == 6:\n",
        "    continue\n",
        "  print(number)\n"
      ],
      "metadata": {
        "colab": {
          "base_uri": "https://localhost:8080/"
        },
        "id": "LgvV9Mr_bKYQ",
        "outputId": "8310c6b9-3603-4ed5-e0b1-319a0de22362"
      },
      "execution_count": null,
      "outputs": [
        {
          "output_type": "stream",
          "name": "stdout",
          "text": [
            "0\n",
            "1\n",
            "2\n",
            "4\n",
            "5\n"
          ]
        }
      ]
    },
    {
      "cell_type": "code",
      "source": [
        "def fibonacci(n):\n",
        "  if n == 0:\n",
        "    return 0\n",
        "  elif n == 1:\n",
        "    return 1\n",
        "  else:\n",
        "    return fibonacci(n-1) + fibonacci(n-2)\n",
        "\n",
        "nterms = 50\n",
        "\n",
        "for i in range(nterms):\n",
        "  fib = fibonacci(i)\n",
        "  if fib > 50:\n",
        "    break\n",
        "  print(fib)\n"
      ],
      "metadata": {
        "colab": {
          "base_uri": "https://localhost:8080/"
        },
        "id": "dQrzx8hrbNE7",
        "outputId": "57b8a499-714a-470c-831b-d432a9a33ec2"
      },
      "execution_count": null,
      "outputs": [
        {
          "output_type": "stream",
          "name": "stdout",
          "text": [
            "0\n",
            "1\n",
            "1\n",
            "2\n",
            "3\n",
            "5\n",
            "8\n",
            "13\n",
            "21\n",
            "34\n"
          ]
        }
      ]
    },
    {
      "cell_type": "code",
      "source": [
        "for i in range(1, 51):\n",
        "  if i % 3 == 0 and i % 5 == 0:\n",
        "    print(\"FizzBuzz\")\n",
        "  elif i % 3 == 0:\n",
        "    print(\"Fizz\")\n",
        "  elif i % 5 == 0:\n",
        "    print(\"Buzz\")\n",
        "  else:\n",
        "    print(i)\n"
      ],
      "metadata": {
        "colab": {
          "base_uri": "https://localhost:8080/"
        },
        "id": "NQ-w9Cisbie3",
        "outputId": "221d2676-fe4f-4a5c-c70f-7e06449ae6f4"
      },
      "execution_count": null,
      "outputs": [
        {
          "output_type": "stream",
          "name": "stdout",
          "text": [
            "1\n",
            "2\n",
            "Fizz\n",
            "4\n",
            "Buzz\n",
            "Fizz\n",
            "7\n",
            "8\n",
            "Fizz\n",
            "Buzz\n",
            "11\n",
            "Fizz\n",
            "13\n",
            "14\n",
            "FizzBuzz\n",
            "16\n",
            "17\n",
            "Fizz\n",
            "19\n",
            "Buzz\n",
            "Fizz\n",
            "22\n",
            "23\n",
            "Fizz\n",
            "Buzz\n",
            "26\n",
            "Fizz\n",
            "28\n",
            "29\n",
            "FizzBuzz\n",
            "31\n",
            "32\n",
            "Fizz\n",
            "34\n",
            "Buzz\n",
            "Fizz\n",
            "37\n",
            "38\n",
            "Fizz\n",
            "Buzz\n",
            "41\n",
            "Fizz\n",
            "43\n",
            "44\n",
            "FizzBuzz\n",
            "46\n",
            "47\n",
            "Fizz\n",
            "49\n",
            "Buzz\n"
          ]
        }
      ]
    },
    {
      "cell_type": "code",
      "source": [
        "binary_numbers = input(\"Enter a sequence of 4-digit binary numbers, separated by commas: \")\n",
        "\n",
        "numbers = binary_numbers.split(\",\")\n",
        "result = []\n",
        "\n",
        "for number in numbers:\n",
        "  decimal = int(number, 2)\n",
        "  if decimal % 5 == 0:\n",
        "    result.append(number)\n",
        "print(\"Output : \")\n",
        "print(\",\".join(result))\n"
      ],
      "metadata": {
        "colab": {
          "base_uri": "https://localhost:8080/"
        },
        "id": "wkhtF2DVbzf5",
        "outputId": "2562ea1c-1c3a-434c-c3d5-b7ef5ad181e6"
      },
      "execution_count": null,
      "outputs": [
        {
          "output_type": "stream",
          "name": "stdout",
          "text": [
            "Enter a sequence of 4-digit binary numbers, separated by commas: 1010,1011,1100,1011,1110,1010\n",
            "Output : \n",
            "1010,1010\n"
          ]
        }
      ]
    },
    {
      "cell_type": "code",
      "source": [
        "string = input(\"Enter a string: \")\n",
        "\n",
        "digits = 0\n",
        "letters = 0\n",
        "for char in string:\n",
        "  if char.isdigit():\n",
        "    digits += 1\n",
        "  elif char.isalpha():\n",
        "    letters += 1\n",
        "\n",
        "print(\"The number of digits is:\", digits)\n",
        "print(\"The number of letters is:\", letters)\n"
      ],
      "metadata": {
        "colab": {
          "base_uri": "https://localhost:8080/"
        },
        "id": "i5zfFUOrcYiq",
        "outputId": "80b8bb9b-40ba-4431-ecab-ad199d027762"
      },
      "execution_count": null,
      "outputs": [
        {
          "output_type": "stream",
          "name": "stdout",
          "text": [
            "Enter a string: deepnarayan\n",
            "The number of digits is: 0\n",
            "The number of letters is: 11\n"
          ]
        }
      ]
    },
    {
      "cell_type": "code",
      "source": [
        "result = []\n",
        "for i in range(100, 401):\n",
        "  all_even = True\n",
        "  for j in str(i):\n",
        "    if int(j) % 2 != 0:\n",
        "      all_even = False\n",
        "      break\n",
        "  if all_even:\n",
        "    result.append(str(i))\n",
        "\n",
        "print(','.join(result))\n"
      ],
      "metadata": {
        "colab": {
          "base_uri": "https://localhost:8080/"
        },
        "id": "7rYffnuDdZt8",
        "outputId": "0cab2e43-ccd1-4fb4-aa43-d4e94919abe2"
      },
      "execution_count": null,
      "outputs": [
        {
          "output_type": "stream",
          "name": "stdout",
          "text": [
            "200,202,204,206,208,220,222,224,226,228,240,242,244,246,248,260,262,264,266,268,280,282,284,286,288,400\n"
          ]
        }
      ]
    },
    {
      "cell_type": "code",
      "source": [
        "def dog_age_in_human_years(dog_age):\n",
        "  if dog_age <= 2:\n",
        "    return dog_age * 10.5\n",
        "  else:\n",
        "    return 21 + (dog_age - 2) * 4\n",
        "\n",
        "dog_age = int(input(\"Enter the dog's age in dog years: \"))\n",
        "human_age = dog_age_in_human_years(dog_age)\n",
        "\n",
        "print(\"The dog's age in human years is:\", human_age)\n"
      ],
      "metadata": {
        "colab": {
          "base_uri": "https://localhost:8080/"
        },
        "id": "yrv-s_H7dnuW",
        "outputId": "d7dfc516-3651-4980-e0a3-95f9cdfd4405"
      },
      "execution_count": null,
      "outputs": [
        {
          "output_type": "stream",
          "name": "stdout",
          "text": [
            "Enter the dog's age in dog years: 5\n",
            "The dog's age in human years is: 33\n"
          ]
        }
      ]
    },
    {
      "cell_type": "code",
      "source": [
        "letter = input(\"Enter a letter: \")\n",
        "\n",
        "if letter in ['a', 'e', 'i', 'o', 'u', 'A', 'E', 'I', 'O', 'U']:\n",
        "  print(letter, \"is a vowel.\")\n",
        "else:\n",
        "  print(letter, \"is a consonant.\")\n"
      ],
      "metadata": {
        "colab": {
          "base_uri": "https://localhost:8080/"
        },
        "id": "cRs7WmEzeANp",
        "outputId": "aa12f418-123e-48b4-9563-bbe63fabfdf3"
      },
      "execution_count": null,
      "outputs": [
        {
          "output_type": "stream",
          "name": "stdout",
          "text": [
            "Enter a letter: deep\n",
            "deep is a consonant.\n"
          ]
        }
      ]
    },
    {
      "cell_type": "code",
      "source": [
        "month_name = input(\"Enter the name of the month: \")\n",
        "\n",
        "if month_name in [\"January\", \"March\", \"May\", \"July\", \"August\", \"October\", \"December\"]:\n",
        "  num_days = 31\n",
        "elif month_name in [\"April\", \"June\", \"September\", \"November\"]:\n",
        "  num_days = 30\n",
        "elif month_name == \"February\":\n",
        "  num_days = 28\n",
        "else:\n",
        "  num_days = None\n",
        "\n",
        "if num_days is not None:\n",
        "  print(\"The number of days in\", month_name, \"is\", num_days, \"days.\")\n",
        "else:\n",
        "  print(\"Invalid month name.\")\n"
      ],
      "metadata": {
        "colab": {
          "base_uri": "https://localhost:8080/"
        },
        "id": "qj4KY5unemE7",
        "outputId": "2b767a96-ecb5-4e65-ce93-b193bcd1010a"
      },
      "execution_count": null,
      "outputs": [
        {
          "output_type": "stream",
          "name": "stdout",
          "text": [
            "Enter the name of the month: March\n",
            "The number of days in March is 31 days.\n"
          ]
        }
      ]
    },
    {
      "cell_type": "code",
      "source": [
        "a = int(input(\"Enter the first number: \"))\n",
        "b = int(input(\"Enter the second number: \"))\n",
        "\n",
        "sum = a + b\n",
        "\n",
        "if 15 <= sum <= 20:\n",
        "  sum = 20\n",
        "\n",
        "print(\"The sum of\", a, \"and\", b, \"is\", sum)\n"
      ],
      "metadata": {
        "colab": {
          "base_uri": "https://localhost:8080/"
        },
        "id": "WwScVTyJgg7V",
        "outputId": "8d6279f2-7e75-4024-dc95-758300a68923"
      },
      "execution_count": null,
      "outputs": [
        {
          "output_type": "stream",
          "name": "stdout",
          "text": [
            "Enter the first number: 10\n",
            "Enter the second number: 12\n",
            "The sum of 10 and 12 is 22\n"
          ]
        }
      ]
    },
    {
      "cell_type": "code",
      "source": [
        "string = input(\"Enter a string: \")\n",
        "\n",
        "try:\n",
        "    int(string)\n",
        "    print(string, \"is an integer.\")\n",
        "except ValueError:\n",
        "    print(string, \"is not an integer.\")\n"
      ],
      "metadata": {
        "colab": {
          "base_uri": "https://localhost:8080/"
        },
        "id": "WyKIDv9thDgU",
        "outputId": "c1d96632-cd26-4302-d2f3-b971770873cc"
      },
      "execution_count": null,
      "outputs": [
        {
          "output_type": "stream",
          "name": "stdout",
          "text": [
            "Enter a string: 42\n",
            "42 is an integer.\n"
          ]
        }
      ]
    },
    {
      "cell_type": "code",
      "source": [
        "a = int(input(\"Enter the length of the first side: \"))\n",
        "b = int(input(\"Enter the length of the second side: \"))\n",
        "c = int(input(\"Enter the length of the third side: \"))\n",
        "\n",
        "if a == b == c:\n",
        "    print(\"The triangle is equilateral.\")\n",
        "elif a == b or a == c or b == c:\n",
        "    print(\"The triangle is isosceles.\")\n",
        "else:\n",
        "    print(\"The triangle is scalene.\")\n"
      ],
      "metadata": {
        "colab": {
          "base_uri": "https://localhost:8080/"
        },
        "id": "9PY_EVhjhlcs",
        "outputId": "81509177-3e7b-4b06-bcb1-1e2c9858f502"
      },
      "execution_count": null,
      "outputs": [
        {
          "output_type": "stream",
          "name": "stdout",
          "text": [
            "Enter the length of the first side: 4\n",
            "Enter the length of the second side: 3\n",
            "Enter the length of the third side: 2\n",
            "The triangle is scalene.\n"
          ]
        }
      ]
    },
    {
      "cell_type": "code",
      "source": [
        "month = int(input(\"Enter the month (as a number between 1 and 12): \"))\n",
        "day = int(input(\"Enter the day (as a number between 1 and 31): \"))\n",
        "\n",
        "if month < 1 or month > 12 or day < 1 or day > 31:\n",
        "    print(\"Invalid input.\")\n",
        "elif (month == 3 and day >= 20) or (month > 3 and month < 6):\n",
        "    print(\"Spring\")\n",
        "elif (month == 6 and day >= 21) or (month > 6 and month < 9):\n",
        "    print(\"Summer\")\n",
        "elif (month == 9 and day >= 22) or (month > 9 and month < 12):\n",
        "    print(\"Fall\")\n",
        "else:\n",
        "    print(\"Winter\")\n"
      ],
      "metadata": {
        "colab": {
          "base_uri": "https://localhost:8080/"
        },
        "id": "L3dWdJjeiYa4",
        "outputId": "1c59e742-f914-4b4f-a330-9d8957be4a77"
      },
      "execution_count": null,
      "outputs": [
        {
          "output_type": "stream",
          "name": "stdout",
          "text": [
            "Enter the month (as a number between 1 and 12): 5\n",
            "Enter the day (as a number between 1 and 31): 23\n",
            "Spring\n"
          ]
        }
      ]
    },
    {
      "cell_type": "code",
      "source": [
        "def find_median(a, b, c):\n",
        "    if a < b:\n",
        "        if b < c:\n",
        "            return b\n",
        "        elif a < c:\n",
        "            return c\n",
        "        else:\n",
        "            return a\n",
        "    else:\n",
        "        if a < c:\n",
        "            return a\n",
        "        elif b < c:\n",
        "            return c\n",
        "        else:\n",
        "            return b\n",
        "\n",
        "a = int(input(\"Enter first number: \"))\n",
        "b = int(input(\"Enter second number: \"))\n",
        "c = int(input(\"Enter third number: \"))\n",
        "\n",
        "median = find_median(a, b, c)\n",
        "\n",
        "print(\"Median:\", median)\n"
      ],
      "metadata": {
        "colab": {
          "base_uri": "https://localhost:8080/"
        },
        "id": "OpNe3BaSj5NG",
        "outputId": "b9ddfd2d-8995-4dcb-acf6-2e1c6e0c8e1a"
      },
      "execution_count": null,
      "outputs": [
        {
          "output_type": "stream",
          "name": "stdout",
          "text": [
            "Enter first number: 12\n",
            "Enter second number: 11\n",
            "Enter third number: 10\n",
            "Median: 11\n"
          ]
        }
      ]
    },
    {
      "cell_type": "code",
      "source": [
        "num = int(input(\"Enter a number: \"))\n",
        "\n",
        "for i in range(1, 11):\n",
        "    print(num, \"x\", i, \"=\", num * i)\n"
      ],
      "metadata": {
        "colab": {
          "base_uri": "https://localhost:8080/"
        },
        "id": "Qwg-7OSCk2su",
        "outputId": "81fb7a09-d4ad-4415-c714-6ef59f04c5e2"
      },
      "execution_count": null,
      "outputs": [
        {
          "output_type": "stream",
          "name": "stdout",
          "text": [
            "Enter a number: 24\n",
            "24 x 1 = 24\n",
            "24 x 2 = 48\n",
            "24 x 3 = 72\n",
            "24 x 4 = 96\n",
            "24 x 5 = 120\n",
            "24 x 6 = 144\n",
            "24 x 7 = 168\n",
            "24 x 8 = 192\n",
            "24 x 9 = 216\n",
            "24 x 10 = 240\n"
          ]
        }
      ]
    },
    {
      "cell_type": "code",
      "source": [
        "string = input(\"Enter a string: \")\n",
        "\n",
        "length = len(string)\n",
        "\n",
        "print(\"The length of the string is\", length)\n"
      ],
      "metadata": {
        "colab": {
          "base_uri": "https://localhost:8080/"
        },
        "id": "_aLfE8q0lWM8",
        "outputId": "f992c0da-3145-46e5-a2ec-38efa01752c7"
      },
      "execution_count": null,
      "outputs": [
        {
          "output_type": "stream",
          "name": "stdout",
          "text": [
            "Enter a string: zatch\n",
            "The length of the string is 5\n"
          ]
        }
      ]
    },
    {
      "cell_type": "code",
      "source": [
        "string = input(\"Enter a string: \")\n",
        "\n",
        "frequency = {}\n",
        "\n",
        "for char in string:\n",
        "  frequency[char] = frequency.get(char, 0) + 1\n",
        "\n",
        "print(\"Character frequency:\")\n",
        "for char, count in frequency.items():\n",
        "  print(char, count)\n"
      ],
      "metadata": {
        "colab": {
          "base_uri": "https://localhost:8080/"
        },
        "id": "Rz3ifjEOl7w6",
        "outputId": "658a2353-fb45-4020-e9e5-ccb220b6c40d"
      },
      "execution_count": null,
      "outputs": [
        {
          "output_type": "stream",
          "name": "stdout",
          "text": [
            "Enter a string: ZaTCh\n",
            "Character frequency:\n",
            "Z 1\n",
            "a 1\n",
            "T 1\n",
            "C 1\n",
            "h 1\n"
          ]
        }
      ]
    },
    {
      "cell_type": "code",
      "source": [],
      "metadata": {
        "id": "rY9Y4AzFmVqI"
      },
      "execution_count": null,
      "outputs": []
    }
  ]
}